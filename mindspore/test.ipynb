{
 "cells": [
  {
   "cell_type": "code",
   "execution_count": 1,
   "metadata": {},
   "outputs": [],
   "source": [
    "import mindspore as ms\n",
    "import numpy as np\n",
    "import pandas as pd"
   ]
  },
  {
   "cell_type": "code",
   "execution_count": 2,
   "metadata": {},
   "outputs": [
    {
     "data": {
      "text/plain": [
       "'2.2.14'"
      ]
     },
     "execution_count": 2,
     "metadata": {},
     "output_type": "execute_result"
    }
   ],
   "source": [
    "ms.__version__"
   ]
  },
  {
   "cell_type": "code",
   "execution_count": 3,
   "metadata": {},
   "outputs": [
    {
     "name": "stdout",
     "output_type": "stream",
     "text": [
      "MindSpore version:  2.2.14\n",
      "The result of multiplication calculation is correct, MindSpore has been installed on platform [CPU] successfully!\n"
     ]
    }
   ],
   "source": [
    "ms.run_check()"
   ]
  },
  {
   "cell_type": "code",
   "execution_count": 3,
   "metadata": {},
   "outputs": [
    {
     "data": {
      "text/plain": [
       "Tensor(shape=[], dtype=Int8, value= 2)"
      ]
     },
     "execution_count": 3,
     "metadata": {},
     "output_type": "execute_result"
    }
   ],
   "source": [
    "z = ms.Tensor(2.0, ms.dtype.int8)\n",
    "z"
   ]
  },
  {
   "cell_type": "code",
   "execution_count": 5,
   "metadata": {},
   "outputs": [
    {
     "data": {
      "text/plain": [
       "Tensor(shape=[], dtype=Bool, value= True)"
      ]
     },
     "execution_count": 5,
     "metadata": {},
     "output_type": "execute_result"
    }
   ],
   "source": [
    "t = ms.Tensor(True, ms.dtype.bool_)\n",
    "t"
   ]
  },
  {
   "cell_type": "code",
   "execution_count": 10,
   "metadata": {},
   "outputs": [
    {
     "data": {
      "text/plain": [
       "Tensor(shape=[2, 2], dtype=Int8, value=\n",
       "[[0, 1],\n",
       " [2, 1]])"
      ]
     },
     "execution_count": 10,
     "metadata": {},
     "output_type": "execute_result"
    }
   ],
   "source": [
    "x = ms.Tensor(np.array([[0,1],[2,1]]).astype(np.int8))\n",
    "x"
   ]
  },
  {
   "cell_type": "code",
   "execution_count": 11,
   "metadata": {},
   "outputs": [
    {
     "data": {
      "text/plain": [
       "Tensor(shape=[2, 2], dtype=Int8, value=\n",
       "[[1, 1],\n",
       " [1, 1]])"
      ]
     },
     "execution_count": 11,
     "metadata": {},
     "output_type": "execute_result"
    }
   ],
   "source": [
    "from mindspore import ops\n",
    "oneslike = ops.OnesLike()\n",
    "ones = oneslike(x)\n",
    "ones\n"
   ]
  },
  {
   "cell_type": "code",
   "execution_count": 12,
   "metadata": {},
   "outputs": [
    {
     "data": {
      "text/plain": [
       "Tensor(shape=[3, 3, 3], dtype=Int8, value=\n",
       "[[[1, 1, 1],\n",
       "  [1, 1, 1],\n",
       "  [1, 1, 1]],\n",
       " [[1, 1, 1],\n",
       "  [1, 1, 1],\n",
       "  [1, 1, 1]],\n",
       " [[1, 1, 1],\n",
       "  [1, 1, 1],\n",
       "  [1, 1, 1]]])"
      ]
     },
     "execution_count": 12,
     "metadata": {},
     "output_type": "execute_result"
    }
   ],
   "source": [
    "ones = ops.Ones()\n",
    "output = ones((3,3,3), ms.dtype.int8)\n",
    "output"
   ]
  },
  {
   "cell_type": "code",
   "execution_count": 16,
   "metadata": {},
   "outputs": [
    {
     "data": {
      "text/plain": [
       "Tensor(shape=[2, 3, 3], dtype=Int8, value=\n",
       "[[[0, 0, 0],\n",
       "  [0, 0, 0],\n",
       "  [0, 0, 0]],\n",
       " [[0, 0, 0],\n",
       "  [0, 0, 0],\n",
       "  [0, 0, 0]]])"
      ]
     },
     "execution_count": 16,
     "metadata": {},
     "output_type": "execute_result"
    }
   ],
   "source": [
    "zeros = ops.Zeros()\n",
    "output = zeros((2,3,3), ms.dtype.int8)\n",
    "output"
   ]
  },
  {
   "cell_type": "code",
   "execution_count": 25,
   "metadata": {},
   "outputs": [
    {
     "data": {
      "text/plain": [
       "Tensor(shape=[2, 2], dtype=Int16, value=\n",
       "[[1, 2],\n",
       " [3, 4]])"
      ]
     },
     "execution_count": 25,
     "metadata": {},
     "output_type": "execute_result"
    }
   ],
   "source": [
    "#Tensor indexing and slicing\n",
    "x = ms.Tensor(np.array([[1,2],[3,4]]), ms.dtype.int16)\n",
    "x"
   ]
  },
  {
   "cell_type": "code",
   "execution_count": 27,
   "metadata": {},
   "outputs": [
    {
     "name": "stdout",
     "output_type": "stream",
     "text": [
      "first row: [3 4]\n"
     ]
    }
   ],
   "source": [
    "first_row = x[0]\n",
    "print(f'first row: {first_row}')"
   ]
  },
  {
   "cell_type": "code",
   "execution_count": 28,
   "metadata": {},
   "outputs": [
    {
     "name": "stdout",
     "output_type": "stream",
     "text": [
      "first column: [1 3]\n"
     ]
    }
   ],
   "source": [
    "first_column = x[:,0]\n",
    "print(f'first column: {first_column}')\n",
    "\n",
    "#persis numpy"
   ]
  },
  {
   "cell_type": "code",
   "execution_count": 21,
   "metadata": {},
   "outputs": [
    {
     "data": {
      "image/png": "[encoded data removed]",
      "text/plain": [
       "<Figure size 800x800 with 3 Axes>"
      ]
     },
     "metadata": {},
     "output_type": "display_data"
    }
   ],
   "source": [
    "#MNIST Dataset\n",
    "import os\n",
    "import matplotlib.pyplot as plt\n",
    "import mindspore.dataset as ds\n",
    "\n",
    "dataser_dir = '/home/wicom/Desktop/mindspore_training/Data-Science/MNIST_dataset/MNIST/train'\n",
    "mnist_dataset = ds.MnistDataset(dataset_dir=dataser_dir, num_samples=3)\n",
    "plt.figure(figsize=(8,8))\n",
    "i = 1\n",
    "\n",
    "for dic in mnist_dataset.create_dict_iterator(output_numpy=True):\n",
    "    plt.subplot(3,3,i)\n",
    "    plt.imshow(dic['image'][:,:,0])\n",
    "    plt.axis('off')\n",
    "    i+=1\n",
    "plt.show()"
   ]
  },
  {
   "cell_type": "code",
   "execution_count": null,
   "metadata": {},
   "outputs": [],
   "source": []
  }
 ],
 "metadata": {
  "kernelspec": {
   "display_name": "Python 3",
   "language": "python",
   "name": "python3"
  },
  "language_info": {
   "codemirror_mode": {
    "name": "ipython",
    "version": 3
   },
   "file_extension": ".py",
   "mimetype": "text/x-python",
   "name": "python",
   "nbconvert_exporter": "python",
   "pygments_lexer": "ipython3",
   "version": "3.8.10"
  }
 },
 "nbformat": 4,
 "nbformat_minor": 2
}
